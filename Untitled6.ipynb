herbal-chatbot/
├── app.py
├── herbal_knowledge.py
├── templates/
│   └── index.html
├── static/
│   └── style.css
├── requirements.txt
└── README.md# Comprehensive herbal medicine database
herbal_database = {
    "mint": {
        "scientific_name": "Mentha",
        "benefits": [
            "Improves digestion and relieves indigestion",
            "Relieves nausea and headaches",
            "Anti-inflammatory properties",
            "Calms nerves and reduces stress"
        ],
        "uses": [
            "Mint tea for digestion",
            "Mint oil for headaches",
            "Mint infusion for relaxation"
        ],
        "precautions": "Avoid excessive use during pregnancy"
    },
    "ginger": {
        "scientific_name": "Zingiber officinale",
        "benefits": [
            "Treats nausea and dizziness",
            "Anti-inflammatory effects",
            "Improves blood circulation",
            "Boosts immune system"
        ],
        "uses": [
            "Ginger tea for nausea",
            "Ginger powder for cooking",
            "Ginger oil for massage"
        ],
        "precautions": "Avoid large doses for hypertension patients"
    },
    "chamomile": {
        "scientific_name": "Matricaria chamomilla",
        "benefits": [
            "Calms nerves and promotes relaxation",
            "Treats insomnia and improves sleep",
            "Relieves stomach pain",
            "Anti-inflammatory for skin conditions"
        ],
        "uses": [
            "Chamomile tea before bedtime",
            "Chamomile compresses for skin",
            "Chamomile wash for hair"
        ],
        "precautions": "Possible allergy for those sensitive to similar plants"
    },
    "green_tea": {
        "scientific_name": "Camellia sinensis",
        "benefits": [
            "Rich in antioxidants",
            "Improves metabolism",
            "Lowers cholesterol",
            "Improves heart health"
        ],
        "uses": [
            "Drink 2-3 cups daily",
            "Use as skin compress",
            "Mouth wash"
        ],
        "precautions": "Use in moderation"
    },
    "cinnamon": {
        "scientific_name": "Cinnamomum verum",
        "benefits": [
            "Regulates blood sugar",
            "Antibacterial and antifungal",
            "Improves blood circulation",
            "Boosts immunity"
        ],
        "uses": [
            "Cinnamon powder with food",
            "Cinnamon tea for cold",
            "Cinnamon oil for massage"
        ],
        "precautions": "Avoid large doses during pregnancy"
    },
    "turmeric": {
        "scientific_name": "Curcuma longa",
        "benefits": [
            "Powerful anti-inflammatory",
            "Rich in antioxidants",
            "Improves brain function",
            "Helps with arthritis pain"
        ],
        "uses": [
            "Turmeric with milk (golden milk)",
            "Turmeric in cooking",
            "Turmeric paste for skin"
        ],
        "precautions": "May interact with blood thinners"
    },
    "garlic": {
        "scientific_name": "Allium sativum",
        "benefits": [
            "Boosts immune system",
            "Lowers blood pressure",
            "Antibacterial properties",
            "Reduces cholesterol"
        ],
        "uses": [
            "Raw garlic on empty stomach",
            "Garlic in cooking",
            "Garlic supplements"
        ],
        "precautions": "May cause bad breath and digestive issues"
    }
}

# Search functions
def search_herb(herb_name):
    """Search for herb by name"""
    herb_name = herb_name.strip().lower()
    for name, info in herbal_database.items():
        if herb_name in name.lower():
            return info
    return None

def get_all_herbs():
    """Get list of all herbs"""
    return list(herbal_database.keys())

def search_by_benefit(benefit_keyword):
    """Search herbs by health benefit"""
    matching_herbs = []
    for herb_name, info in herbal_database.items():
        for benefit in info['benefits']:
            if benefit_keyword.lower() in benefit.lower():
                matching_herbs.append({
                    'name': herb_name,
                    'benefit': benefit,
                    'scientific_name': info['scientific_name']
                })
    return matching_herbs

def search_by_symptom(symptom):
    """Search herbs that help with specific symptoms"""
    symptom_herb_map = {
        'headache': ['mint', 'ginger'],
        'digestion': ['mint', 'ginger', 'chamomile'],
        'sleep': ['chamomile'],
        'immunity': ['ginger', 'garlic', 'green_tea'],
        'inflammation': ['turmeric', 'ginger'],
        'nausea': ['ginger', 'mint'],
        'stress': ['chamomile', 'mint']
    }
    
    symptom = symptom.lower()
    if symptom in symptom_herb_map:
        return symptom_herb_map[symptom]
    return []from flask import Flask, render_template, request, jsonify
from herbal_knowledge import search_herb, get_all_herbs, search_by_benefit, search_by_symptom
import re

app = Flask(__name__)

@app.route('/')
def home():
    return render_template('index.html')

@app.route('/chat', methods=['POST'])
def chat():
    user_message = request.json.get('message', '').strip().lower()
    
    if not user_message:
        return jsonify({'response': 'Please type a message'})
    
    # Process the message
    response = process_message(user_message)
    
    return jsonify({'response': response})

def process_message(message):
    """Process user message and generate response"""
    
    # Greetings
    greetings = ['hello', 'hi', 'hey', 'hola', 'greetings']
    if any(greet in message for greet in greetings):
        return "Hello! 👋 I'm your Herbal Medicine Assistant. I can help you learn about medicinal herbs and their benefits. What would you like to know?"
    
    # List all herbs
    if 'list' in message or 'show all' in message or 'all herbs' in message:
        herbs = get_all_herbs()
        return f"Available herbs in my knowledge base: {', '.join(herbs)}"
    
    # Search for specific herb
    for herb in get_all_herbs():
        if herb in message:
            herb_info = search_herb(herb)
            if herb_info:
                response = f"🌿 Information about {herb.title()}:\n"
                response += f"Scientific Name: {herb_info['scientific_name']}\n\n"
                response += "Benefits:\n"
                for benefit in herb_info['benefits']:
                    response += f"• {benefit}\n"
                response += "\nCommon Uses:\n"
                for use in herb_info['uses']:
                    response += f"• {use}\n"
                response += f"\n⚠️ Precautions: {herb_info.get('precautions', 'No specific precautions')}"
                return response
    
    # Search by benefit
    benefit_pattern = r'for (.*?)(?:\?|\.|$)'
    benefit_match = re.search(benefit_pattern, message)
    if benefit_match:
        benefit = benefit_match.group(1)
        matching_herbs = search_by_benefit(benefit)
        if matching_herbs:
            response = f"Herbs that help with {benefit}:\n"
            for herb in matching_herbs:
                response += f"• {herb['name'].title()}: {herb['benefit']}\n"
            return response
    
    # Search by symptom
    symptom_keywords = ['headache', 'digestion', 'sleep', 'immunity', 'inflammation', 'nausea', 'stress', 'cold']
    for symptom in symptom_keywords:
        if symptom in message:
            matching_herbs = search_by_symptom(symptom)
            if matching_herbs:
                response = f"Herbs that may help with {symptom}:\n"
                for herb in matching_herbs:
                    herb_info = search_herb(herb)
                    response += f"• {herb.title()}: {herb_info['benefits'][0]}\n"
                return response
    
    # Help command
    if 'help' in message or 'what can you do' in message:
        return """I can help you with:
• Showing list of available herbs
• Searching for specific herbs (e.g., ginger, mint)
• Finding herbs by benefits (e.g., herbs for digestion)
• Recommending herbs for symptoms
• Providing usage information and precautions

Try asking: 'What are the benefits of ginger?' or 'Show me all herbs'"""
    
    # Default response
    return "I'm not sure I understand. You can ask me about specific herbs, their benefits, or ask for 'help' to see what I can do."

if __name__ == '__main__':
    app.run(debug=True, host='0.0.0.0', port=5000)<!DOCTYPE html>
<html lang="en">
<head>
    <meta charset="UTF-8">
    <meta name="viewport" content="width=device-width, initial-scale=1.0">
    <title>Herbal Medicine Chatbot</title>
    <link rel="stylesheet" href="{{ url_for('static', filename='style.css') }}">
</head>
<body>
    <div class="container">
        <div class="header">
            <h1>🌿 Herbal Medicine Assistant</h1>
            <p>Ask me about medicinal herbs and their benefits</p>
        </div>
        
        <div class="chat-container" id="chat-messages">
            <div class="message bot-message">
                <div class="message-bubble">
                    Hello! 👋 I'm your Herbal Medicine Assistant. 
                    I can help you learn about medicinal herbs and their benefits.
                    Choose a suggested question or type your own.
                </div>
            </div>
        </div>
        
        <div class="suggestions">
            <button class="suggestion-btn" onclick="sendSuggestion('Show all herbs')">🌿 List All Herbs</button>
            <button class="suggestion-btn" onclick="sendSuggestion('What are the benefits of ginger?')">🟡 Ginger Benefits</button>
            <button class="suggestion-btn" onclick="sendSuggestion('Herbs for digestion')">🔄 Digestion Help</button>
            <button class="suggestion-btn" onclick="sendSuggestion('Help me sleep better')">😴 Sleep Aid</button>
        </div>
        
        <div class="input-container">
            <input type="text" id="user-input" placeholder="Type your question about herbs..." onkeypress="handleKeyPress(event)">
            <button id="send-btn" onclick="sendMessage()">Send</button>
        </div>
    </div>

    <script>
        function sendMessage() {
            const userInput = document.getElementById('user-input');
            const message = userInput.value.trim();
            
            if (message === '') return;
            
            // Add user message to chat
            addMessage(message, 'user');
            userInput.value = '';
            
            // Send to backend
            fetch('/chat', {
                method: 'POST',
                headers: {
                    'Content-Type': 'application/json',
                },
                body: JSON.stringify({message: message})
            })
            .then(response => response.json())
            .then(data => {
                addMessage(data.response, 'bot');
            })
            .catch(error => {
                console.error('Error:', error);
                addMessage('Sorry, I encountered an error. Please try again.', 'bot');
            });
        }
        
        function sendSuggestion(suggestion) {
            document.getElementById('user-input').value = suggestion;
            sendMessage();
        }
        
        function addMessage(text, sender) {
            const chatMessages = document.getElementById('chat-messages');
            const messageDiv = document.createElement('div');
            messageDiv.className = `message ${sender}-message`;
            
            const bubbleDiv = document.createElement('div');
            bubbleDiv.className = 'message-bubble';
            bubbleDiv.textContent = text;
            
            messageDiv.appendChild(bubbleDiv);
            chatMessages.appendChild(messageDiv);
            
            // Scroll to bottom
            chatMessages.scrollTop = chatMessages.scrollHeight;
        }
        
        function handleKeyPress(event) {
            if (event.key === 'Enter') {
                sendMessage();
            }
        }
    </script>
</body>
</html>* {
    margin: 0;
    padding: 0;
    box-sizing: border-box;
}

body {
    font-family: 'Segoe UI', Tahoma, Geneva, Verdana, sans-serif;
    background: linear-gradient(135deg, #667eea 0%, #764ba2 100%);
    min-height: 100vh;
    padding: 20px;
}

.container {
    max-width: 800px;
    margin: 0 auto;
    background: white;
    border-radius: 20px;
    box-shadow: 0 20px 40px rgba(0,0,0,0.1);
    overflow: hidden;
}

.header {
    background: linear-gradient(135deg, #2ecc71, #27ae60);
    color: white;
    padding: 30px;
    text-align: center;
}

.header h1 {
    font-size: 2.5em;
    margin-bottom: 10px;
}

.header p {
    font-size: 1.1em;
    opacity: 0.9;
}

.chat-container {
    height: 500px;
    overflow-y: auto;
    padding: 20px;
    background: #f8f9fa;
}

.message {
    margin-bottom: 15px;
    display: flex;
}

.user-message {
    justify-content: flex-end;
}

.bot-message {
    justify-content: flex-start;
}

.message-bubble {
    max-width: 70%;
    padding: 12px 18px;
    border-radius: 18px;
    font-size: 14px;
    line-height: 1.4;
}

.user-message .message-bubble {
    background: #007bff;
    color: white;
    border-bottom-right-radius: 4px;
}

.bot-message .message-bubble {
    background: white;
    color: #333;
    border: 1px solid #e0e0e0;
    border-bottom-left-radius: 4px;
    white-space: pre-line;
}

.input-container {
    padding: 20px;
    background: white;
    border-top: 1px solid #e0e0e0;
    display: flex;
    gap: 10px;
}

#user-input {
    flex: 1;
    padding: 12px 16px;
    border: 2px solid #e0e0e0;
    border-radius: 25px;
    font-size: 14px;
    outline: none;
    transition: border-color 0.3s;
}

#user-input:focus {
    border-color: #007bff;
}

#send-btn {
    background: #007bff;
    color: white;
    border: none;
    padding: 12px 24px;
    border-radius: 25px;
    cursor: pointer;
    font-size: 14px;
    transition: background 0.3s;
}

#send-btnFlask==2.3.3# 🌿 Herbal Medicine Chatbot

A smart chatbot that provides information about medicinal herbs, their benefits, uses, and precautions.

## Features
- Search for specific herbs
- Find herbs by health benefits
- Get recommendations for symptoms
- Learn about usage and precautions
- User-friendly web interface

## Installation

1. Clone or download this project
2. Install dependencies:
```bash
pip install -r requirements.txtpython app.py
## How to Run:

1. **Create the project folder:**
```bash
mkdir herbal-chatbot
cd herbal-chatbot
