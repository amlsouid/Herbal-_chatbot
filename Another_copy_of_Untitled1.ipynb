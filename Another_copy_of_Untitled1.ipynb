{
  "nbformat": 4,
  "nbformat_minor": 0,
  "metadata": {
    "colab": {
      "provenance": [],
      "authorship_tag": "ABX9TyO1kpjQrz7QLVhOkT3+2reW",
      "include_colab_link": true
    },
    "kernelspec": {
      "name": "python3",
      "display_name": "Python 3"
    },
    "language_info": {
      "name": "python"
    }
  },
  "cells": [
    {
      "cell_type": "markdown",
      "metadata": {
        "id": "view-in-github",
        "colab_type": "text"
      },
      "source": [
        "<a href=\"https://colab.research.google.com/github/amlsouid/Herbal-_chatbot/blob/main/Another_copy_of_Untitled1.ipynb\" target=\"_parent\"><img src=\"https://colab.research.google.com/assets/colab-badge.svg\" alt=\"Open In Colab\"/></a>"
      ]
    },
    {
      "cell_type": "code",
      "execution_count": null,
      "metadata": {
        "colab": {
          "base_uri": "https://localhost:8080/"
        },
        "id": "GIzi0n_3nR9-",
        "outputId": "09955e1d-a9cc-4f10-dca3-affd439d55d3"
      },
      "outputs": [
        {
          "output_type": "stream",
          "name": "stdout",
          "text": [
            "Welcome to Herbs Chatbot! 🌿\n",
            "Type the name of an herb to learn its benefits (e.g., 'green tea'). Type 'exit' to quit.\n",
            "\n",
            "Ask about an herb: Green Tea \n",
            "➡️ Korean Green Tea: Rich in antioxidants (EGCG). Perfect for oily skin - regulates sebum, soothes inflammation. Used in masks and toners.\n",
            "\n",
            "Ask about an herb: Thuyme\n",
            "❌ I don't know that herb yet. Try: green tea, snail mucin, henna, etc.\n",
            "\n",
            "Ask about an herb: exite \n",
            "❌ I don't know that herb yet. Try: green tea, snail mucin, henna, etc.\n",
            "\n",
            "Ask about an herb: exit \n",
            "Goodbye! 👋\n"
          ]
        }
      ],
      "source": [
        "# Improved Herbs Chatbot with Korean and Algerian herbs\n",
        "herbs = {\n",
        "    \"green tea\": \"Korean Green Tea: Rich in antioxidants (EGCG). Perfect for oily skin - regulates sebum, soothes inflammation. Used in masks and toners.\",\n",
        "    \"snail mucin\": \"Korean Snail Mucin: Deeply hydrates skin, repairs barrier, treats acne scars, reduces wrinkles. Found in essences and creams.\",\n",
        "    \"centella asiatica\": \"Centella Asiatica (Cica): Powerful soothing for sensitive skin. Promotes wound healing, anti-inflammatory. Used in gels and creams.\",\n",
        "    \"henna\": \"Algerian Henna: Strengthens hair roots, prevents hair loss, treats dandruff. Used as a hair paste.\",\n",
        "    \"aloe vera\": \"Aloe Vera: Soothes sunburns, provides hydration, reduces redness. Used directly as gel or in products.\",\n",
        "    \"thyme\": \"Thyme: Natural antiseptic. Fights acne, cleanses pores. Used in facial steams or toners.\",\n",
        "    \"rosemary\": \"Rosemary: Stimulates hair growth, improves scalp circulation. Used as hair rinse or oil.\",\n",
        "    \"olive oil\": \"Olive Oil: Deeply moisturizes skin and hair. Rich in antioxidants. Used directly or in soaps.\",\n",
        "    \"exit\": \"Goodbye! 👋\"\n",
        "}\n",
        "\n",
        "print(\"Welcome to Herbs Chatbot! 🌿\")\n",
        "print(\"Type the name of an herb to learn its benefits (e.g., 'green tea'). Type 'exit' to quit.\")\n",
        "\n",
        "while True:\n",
        "    user_input = input(\"\\nAsk about an herb: \").lower().strip()\n",
        "    if user_input == \"exit\":\n",
        "        print(\"Goodbye! 👋\")\n",
        "        break\n",
        "    answer = herbs.get(user_input)\n",
        "    if answer:\n",
        "        print(f\"➡️ {answer}\")\n",
        "    else:\n",
        "        print(\"❌ I don't know that herb yet. Try: green tea, snail mucin, henna, etc.\")"
      ]
    }
  ]
}To test the herbal chatbot, please follow these steps:

1. Click on the link above to open the project in Google Colab.  
2. Once the notebook is open, press the **Run** button (▶) at the top of each cell to start the chatbot.  
3. After running, you can type the name of an herb and the chatbot will answer.  

👉 Make sure to click the Colab link above to access the chatbot.
