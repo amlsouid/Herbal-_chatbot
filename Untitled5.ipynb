{
  "nbformat": 4,
  "nbformat_minor": 0,
  "metadata": {
    "colab": {
      "provenance": [],
      "authorship_tag": "ABX9TyMxAmlWVKQQlMYXMu1OI+z+",
      "include_colab_link": true
    },
    "kernelspec": {
      "name": "python3",
      "display_name": "Python 3"
    },
    "language_info": {
      "name": "python"
    }
  },
  "cells": [
    {
      "cell_type": "markdown",
      "metadata": {
        "id": "view-in-github",
        "colab_type": "text"
      },
      "source": [
        "<a href=\"https://colab.research.google.com/github/amlsouid/Herbal-_chatbot/blob/main/Untitled5.ipynb\" target=\"_parent\"><img src=\"https://colab.research.google.com/assets/colab-badge.svg\" alt=\"Open In Colab\"/></a>"
      ]
    },
    {
      "cell_type": "code",
      "execution_count": 1,
      "metadata": {
        "colab": {
          "base_uri": "https://localhost:8080/"
        },
        "id": "uE2TRMcUvy6A",
        "outputId": "569fb25f-ff14-4bb5-c0dd-9f5af987754d"
      },
      "outputs": [
        {
          "output_type": "stream",
          "name": "stdout",
          "text": [
            "Hello! 👋 I'm your advanced skincare assistant.\n",
            "Do you want a personalized skincare routine? (yes/no): yes \n",
            "\n",
            "What is your skin type?\n",
            "1. Dry\n",
            "2. Oily\n",
            "3. Combination\n",
            "4. Sensitive\n",
            "Enter the number corresponding to your skin type: 2\n",
            "\n",
            "Enter your age: 19\n",
            "\n",
            "Do you have any skin concerns? (type numbers separated by commas)\n",
            "1. Acne\n",
            "2. Pigmentation / dark spots\n",
            "3. Wrinkles / fine lines\n",
            "4. None\n",
            "Your choice: 1\n",
            "\n",
            "🌿 Your Personalized Skincare Routine:\n",
            "- Morning: Oil-control cleanser + light moisturizer + oil-free sunscreen\n",
            "- Evening: Clean face twice + light toner\n",
            "- Weekly treatments:\n",
            "  • Acne: Clay mask or acne treatment mask\n",
            "- Tip: Focus on hydration and sun protection.\n",
            "\n",
            "💡 Remember: Drinking enough water, sleeping well, and managing stress are essential for healthy skin!\n"
          ]
        }
      ],
      "source": [
        "def Advanced_skincare_bot   (): print (   \"مرحبا! 👋 أنا مساعدك المتقدم للعناية بالبشرة.\"   )\n",
        "\n",
        "\n",
        "    start = input (   \"هل تريد الحصول على طلاء أظافرك مخصصًا؟ (نعم / لا): \"   ).strip().lower()   if    start !=    \"yes\"   : print (   \"حسنًا، يمكنك العودة لاحقًا. 🌸\"   )   return\n",
        "\n",
        "\n",
        "\n",
        "\n",
        "    # نوع الجلد طباعة ( \"\\nما هو نوع الجلد؟\" ) طباعة ( \"1.الدهنية\") طباعة ( \"2. دهنية\") طباعة ( \"3. المتباينة\") طباعة ( \"4.\n",
        "\n",
        "\n",
        "\n",
        "\n",
        "\n",
        "\n",
        "\n",
        "    # العمر\n",
        "    age = input (   \"\\nأدخل عمرك: \"   ).strip() حاول : العمر =    int   (العمر) التعريف : الطباعة (   \"العمر غير صالح، الافتراضي هو 20.\"   ) العمر =    20\n",
        "\n",
        "\n",
        "\n",
        "\n",
        "\n",
        "\n",
        "    # مشاكل الجلد اطبع ( \"\\nهل لديك أي مشاكل في الجلد؟ (اكتب الرقم مفصولة بفواصل)\" ) اطبع ( \"1.حب الشباب\" ) اطبع ( \"2.التصبغ / التدريب\" ) اطبع ( \"3.إتقان / الخطوط الدقيقة\") اطبع ( \"4.لا شيء\" ) الفيروس = التنوع ( \"اختيارك: \" ).strip().split( \"\"، ) ) )\n",
        "\n",
        "\n",
        "\n",
        "\n",
        "\n",
        "\n",
        "\n",
        "    # طباعة إنشاء فقط ( \"\\n🌿 المناشف اليدوية:\")\n",
        "\n",
        "\n",
        "    # الأصل حسب نوع الجلد if Skin_type == \"1\" : print ( \"- الصباح: منظف + مرطب + واقي من الشمس \" ) print ( \"- المساء: منظف + سيروم مرطب + كريم ليلي \" ) elif Skin_type == \"2\" : print ( \"- الصباح: برنامج التحكم في الإعلانات + خفيف مرطب + واقي من الشمس خالٍ من الإعلانات\" ) print ( \"- المساء: الوجه مرتين + تونر خفيف\" ) elif Skin_type == \"3\" : print ( \"- الصباح: لطيف منظف + خفيف مرطب + من الشمس\" ) print ( \"- المساء: منظف + مرطب غير دهني\" ) elif Skin_type == \"4\" : طباعة ( \"- الصباح: منظف لطيف + مرطب مهدئ + واقي من الشمس\") print ( \"- المساء: منظف لطيف + كريم مهدئ\" ) else : print ( \"- افتراضية: منظف + مرطب + واقي من الشمس لطيف \" )\n",
        "\n",
        "\n",
        "\n",
        "\n",
        "\n",
        "\n",
        "\n",
        "\n",
        "\n",
        "\n",
        "\n",
        "\n",
        "\n",
        "\n",
        "\n",
        "    # علاج أسبوعي حسب الاهتمامات اطبع ( \"- أسبوعية:\" ) مزدحم في الاهتمامات: القلق = القلق. الشريط () إذا كان القلق == \"1\" : اطبع ( \" •حب الشباب: قناع العسل أو قناع علاج حب الشباب\" ) elif القلق == \"2\" : اطبع ( \" • التصبغ: قناع التفتيح أو كريم فيتامين سي\" ) elif القلق == \"3\" : اطبع ( \" •قناع مضاد للشيخوخة أو كريم الببتيد\" ) elif القلق == \"4\" : اطبع ( \" • لا شيء: قناع ترطيب لطيف\" )\n",
        "\n",
        "\n",
        "\n",
        "\n",
        "\n",
        "\n",
        "\n",
        "\n",
        "\n",
        "\n",
        "\n",
        "\n",
        "    #نصيحة خاصة بالعمر إذا كان العمر < 25 : اطبع ( \"- ملاحظة: ركزي على الترطيب والحماية من الشمس.\" ) elif 25 <= age <= 35 : اطبع ( \"- ملحوظة: يحتوي على مؤثرات متنوعة وتقشير لطيف إلى غيرك.\" ) else : اطبع ( \"- ملحوظة: تحميل منتجات مكافحة الشيخوخة مثل الريتينول أو الببتيدات، بالإضافة إلى الترطيب.\" )\n",
        "\n",
        "\n",
        "\n",
        "\n",
        "\n",
        "\n",
        "\n",
        "    تذكر : شرب كمية كافية من المياه، والتغذية، وإدارة الشؤون العامة ضرورية لنقص الرعاية الصحية   !\n",
        "\n",
        "# قم باختيار\n",
        "المتقدمة Advanced_skincare_bot()"
      ]
    }
  ]
}