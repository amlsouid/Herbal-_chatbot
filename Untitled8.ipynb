# Install the translation library
!pip install googletrans==4.0.0-rc1

# Import the translator
from googletrans import Translator

# Create a translator object
translator = Translator()

# Ask the user to enter text
text = input("Enter text to translate: ")

# Translate the text to Korean
translated = translator.translate(text, dest='ko')  # 'ko' = Korean

# Print the results
print("Original text:", text)
print("Translated text:", translated.text)
