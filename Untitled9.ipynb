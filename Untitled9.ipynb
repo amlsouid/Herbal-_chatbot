import random
from datetime import datetime

class AdvancedSkincareRoutine:
    def __init__(self):
        self.start_date = datetime.now()
        self.favorite_products = {}
        self.usage_tracking = {}
        self.used_herbs = []
        
    def natural_herbs_database(self):
        """
        Comprehensive database of natural herbs and remedies
        """
        return {
            "anti_inflammatory": {
                "Chamomile": "Soothes irritated skin, reduces redness and inflammation",
                "Turmeric": "Strong antioxidant and anti-inflammatory, brightens skin",
                "Ginger": "Improves blood circulation and reduces inflammation",
                "Aloe Vera": "Moisturizes and soothes burns and irritation",
                "Licorice": "Reduces redness and inflammation, suitable for rosacea"
            },
            "antibacterial": {
                "Green Tea": "Reduces oil secretion, antimicrobial",
                "Oregano": "Strong antibacterial against acne-causing bacteria",
                "Thyme": "Disinfects skin and prevents bacterial spread",
                "Clove": "Antifungal and antibacterial",
                "Sage": "Regulates oil secretion and cleanses pores"
            },
            "anti_aging": {
                "Rosemary": "Rich in antioxidants, fights aging",
                "Marjoram": "Improves skin elasticity and reduces wrinkles",
                "Patchouli": "Renews skin cells and stimulates collagen",
                "Lavender": "Repairs damaged cells and soothes skin",
                "Rose": "Moisturizes, nourishes and reduces aging signs"
            },
            "brightening": {
                "Licorice": "Lightens pigmentation and evens skin tone",
                "Turmeric": "Brightens skin and reduces dark spots",
                "Parsley": "Reduces dark circles and brightens skin",
                "Lemon": "Contains vitamin C for skin lightening",
                "Oatmeal": "Gently exfoliates and evens skin tone"
            },
            "moisturizing": {
                "Lavender": "Moisturizes and soothes dry skin",
                "Chamomile": "Treats dryness and itching",
                "Mint": "Refreshes and moisturizes skin",
                "Cucumber": "Moisturizes and cools inflamed skin",
                "Coconut": "Rich in natural moisturizing oils"
            }
        }
    
    def custom_herbal_mixes(self, problems, skin_type):
        """
        Create custom herbal mixtures based on skin problems
        """
        herbs = self.natural_herbs_database()
        mixtures = []
        
        if "acne" in problems:
            mixtures.append({
                "name": "🫧 Anti-Acne Mask",
                "ingredients": {
                    "Green Tea": "1 tsp powder",
                    "Thyme": "1/2 tsp",
                    "Honey": "1 tbsp",
                    "Aloe Vera": "1 tbsp gel"
                },
                "preparation": "Mix ingredients until smooth, apply for 15 minutes then rinse",
                "frequency": "3 times weekly"
            })
            
        if "dryness" in problems:
            mixtures.append({
                "name": "💧 Deep Hydration Mask",
                "ingredients": {
                    "Honey": "2 tbsp",
                    "Avocado": "1/2 mashed fruit",
                    "Yogurt": "1 tbsp",
                    "Coconut": "1 tsp oil"
                },
                "preparation": "Mash avocado and add other ingredients, apply for 20 minutes",
                "frequency": "Twice weekly"
            })
            
        if "wrinkles" in problems:
            mixtures.append({
                "name": "⚡ Anti-Wrinkle Mask",
                "ingredients": {
                    "Turmeric": "1/2 tsp",
                    "Honey": "1 tbsp",
                    "Yogurt": "1 tbsp",
                    "Lemon": "Few drops"
                },
                "preparation": "Mix turmeric with honey first then add other ingredients",
                "frequency": "Twice weekly"
            })
            
        if "pigmentation" in problems:
            mixtures.append({
                "name": "🌟 Natural Brightening Mask",
                "ingredients": {
                    "Licorice": "1 tsp powder",
                    "Honey": "1 tbsp",
                    "Yogurt": "1 tbsp",
                    "Turmeric": "1/4 tsp"
                },
                "preparation": "Mix all ingredients and apply on dark areas for 15 minutes",
                "frequency": "3 times weekly"
            })
            
        # Additional mixtures based on skin type
        if "oily" in skin_type:
            mixtures.append({
                "name": "🎯 Oil Control Mask",
                "ingredients": {
                    "Green Tea": "1 tsp powder",
                    "Green Clay": "1 tbsp",
                    "Mint": "Fresh crushed leaves",
                    "Rose Water": "For desired consistency"
                },
                "preparation": "Mix clay with green tea then add mint and rose water",
                "frequency": "Twice weekly"
            })
            
        return mixtures
    
    def skincare_herbal_tea(self, problems):
        """
        Herbal tea recipes for skin health from inside
        """
        tea_recipes = []
        
        if "acne" in problems:
            tea_recipes.append({
                "name": "🌿 Skin Purification Tea",
                "ingredients": ["Green Tea", "Mint", "Thyme"],
                "benefits": "Purifies blood and reduces internal inflammation",
                "preparation": "Steep ingredients in hot water for 5-7 minutes",
                "frequency": "Daily"
            })
            
        if "dryness" in problems:
            tea_recipes.append({
                "name": "💦 Internal Hydration Tea",
                "ingredients": ["Chamomile", "Lavender", "Rose"],
                "benefits": "Moisturizes skin from inside and calms nervous system",
                "preparation": "Steep in covered hot water for 10 minutes",
                "frequency": "Before bedtime"
            })
            
        if "wrinkles" in problems:
            tea_recipes.append({
                "name": "🍃 Antioxidant Tea",
                "ingredients": ["Rosemary", "Green Tea", "Ginger"],
                "benefits": "Rich in antioxidants to fight aging",
                "preparation": "Boil ingredients for 3 minutes then steep for 5 minutes",
                "frequency": "3-4 times weekly"
            })
            
        return tea_recipes
    
    def herbal_oils_for_topical_use(self, skin_type):
        """
        Recommended herbal oils for topical care
        """
        oils = {
            "oily": {
                "Green Tea Oil": "Lightweight, regulates sebum production",
                "Rosemary Oil": "Antibacterial, tightens pores",
                "Peppermint Oil": "Refreshes and reduces shine"
            },
            "dry": {
                "Lavender Oil": "Moisturizes and soothes dry skin",
                "Chamomile Oil": "Treats cracks and dryness",
                "Rose Oil": "Rich in vitamins, deeply moisturizes"
            },
            "combination": {
                "Jojoba Oil": "Balanced, similar to skin's natural oils",
                "Lavender Oil": "Suitable for all skin types",
                "Green Tea Oil": "Lightweight and oil-regulating"
            }
        }
        
        return oils.get(skin_type, {})
    
    def create_custom_routine(self, skin_type, problems, budget, age, climate, prefer_natural=False):
        """
        Create custom skincare routine with herbal remedies integration
        """
        
        # Comprehensive product database
        product_database = {
            "cleanser": {
                "oily": ["La Roche-Posay Effaclar", "CeraVe Foaming Cleanser", "Neutrogena Oil-Free"],
                "dry": ["CeraVe Hydrating", "Cetaphil Gentle", "Avene Tolerance"],
                "combination": ["Cosrx Low pH", "Kiehl's Ultra Facial", "Vichy Normaderm"]
            },
            "toner": {
                "oily": ["Some By Mi AHA/BHA", "Paula's Choice BHA", "COSRX AHA/BHA"],
                "dry": ["Klairs Supple Preparation", "Laneige Cream Skin", "Fresh Rose Deep Hydration"],
                "combination": ["Anua Heartleaf", "Isntree Green Tea", "Round Lab Dokdo"]
            },
            "serum": {
                "acne": ["The Ordinary Niacinamide", "COSRX Snail Mucin", "Some By Mi Snail Truecica"],
                "wrinkles": ["The Ordinary Retinol", "SkinCeuticals C E Ferulic", "La Roche-Posay Pure Vitamin C"],
                "pigmentation": ["The Ordinary Alpha Arbutin", "Good Molecules Discoloration Correcting", "Naturium Tranexamic Acid"],
                "hydration": ["The Ordinary Hyaluronic Acid", "Vichy Mineral 89", "Laneige Water Bank"]
            },
            "moisturizer": {
                "budget": ["CeraVe PM", "The Ordinary Natural Moisturizing Factors", "Neutrogena Hydro Boost"],
                "mid_range": ["Kiehl's Ultra Facial Cream", "La Roche-Posay Toleriane", "First Aid Beauty Ultra Repair"],
                "luxury": ["Tatcha The Water Cream", "Augustinus Bader The Cream", "La Mer Moisturizing Cream"]
            },
            "sunscreen": {
                "chemical": ["Biore UV Aqua Rich", "La Roche-Posay Anthelios", "Supergoop Unseen Sunscreen"],
                "mineral": ["EltaMD UV Clear", "Hero Cosmetics Force Shield", "COTZ Flawless Complexion"]
            }
        }
        
        morning_routine = []
        evening_routine = []
        custom_tips = []
        
        # Algorithm for product selection
        if "oily" in skin_type:
            morning_routine.extend([
                f"🫧 Cleanser: {random.choice(product_database['cleanser']['oily'])}",
                f"💧 Toner: {random.choice(product_database['toner']['oily'])}"
            ])
            custom_tips.append("Avoid heavy, oily products")
            
        if "acne" in problems:
            evening_routine.append(f"🌟 Acne Serum: {random.choice(product_database['serum']['acne'])}")
            custom_tips.append("Use chemical exfoliant 2-3 times weekly")
            
        if "wrinkles" in problems and int(age) > 25:
            evening_routine.append(f"⚡ Anti-aging Serum: {random.choice(product_database['serum']['wrinkles'])}")
            custom_tips.append("Retinol is your friend for anti-aging")
            
        # Add essential products
        budget_category = "budget" if budget == "low" else "mid_range" if budget == "medium" else "luxury"
        morning_routine.append(f"🧴 Moisturizer: {random.choice(product_database['moisturizer'][budget_category])}")
        morning_routine.append(f"☀️ Sunscreen: {random.choice(product_database['sunscreen']['chemical'])}")
        
        # Additional tips based on climate
        if "dry" in climate:
            custom_tips.append("Use a humidifier in your room at night")
        elif "humid" in climate:
            custom_tips.append("Choose lightweight gel-based products")
        
        # Add herbal remedies if user prefers natural
        if prefer_natural:
            mixtures = self.custom_herbal_mixes(problems, skin_type)
            tea = self.skincare_herbal_tea(problems)
            oils = self.herbal_oils_for_topical_use(skin_type)
            
            # Add herbal mixtures to routine
            if mixtures:
                custom_tips.append("🌿 Weekly Herbal Mixtures:")
                for mixture in mixtures:
                    custom_tips.append(f"  • {mixture['name']}: {mixture['frequency']}")
                    
            # Add herbal tea
            if tea:
                custom_tips.append("🍵 Herbal Skin Tea:")
                for tea_type in tea:
                    custom_tips.append(f"  • {tea_type['name']}: {tea_type['frequency']}")
                    
            # Add herbal oils
            if oils:
                custom_tips.append("💧 Recommended Herbal Oils:")
                for oil, benefit in oils.items():
                    custom_tips.append(f"  • {oil}: {benefit}")
        
        return {
            "morning_routine": morning_routine,
            "evening_routine": evening_routine,
            "custom_tips": custom_tips,
            "herbal_mixtures": mixtures if prefer_natural else [],
            "herbal_tea": tea if prefer_natural else [],
            "herbal_oils": oils if prefer_natural else []
        }
    
    def display_herbal_recipes(self, mixtures):
        """
        Display detailed herbal mixture recipes
        """
        if not mixtures:
            return
            
        print("\n🌿 Natural Herbal Recipes:")
        print("=" * 50)
        
        for mixture in mixtures:
            print(f"\n{mixture['name']}")
            print("-" * 30)
            print("📋 Ingredients:")
            for ingredient, quantity in mixture['ingredients'].items():
                print(f"  • {ingredient}: {quantity}")
            print(f"\n👩‍🍳 Preparation:")
            print(f"  {mixture['preparation']}")
            print(f"⏰ Frequency: {mixture['frequency']}")
    
    def create_shopping_list(self, routine):
        """
        Create smart shopping list based on routine
        """
        print("\n🛍️ Smart Shopping List:")
        print("=" * 40)
        
        all_products = []
        for step in routine["morning_routine"] + routine["evening_routine"]:
            if ":" in step:
                product = step.split(":")[1].strip()
                all_products.append(product)
                
        for product in set(all_products):  # Remove duplicates
            print(f"✓ {product}")
            
        print(f"\n💰 Estimated Budget: ${len(all_products) * 15:,} - ${len(all_products) * 50:,}")
    
    def track_progress(self, username):
        """
        Progress tracking system
        """
        if username not in self.usage_tracking:
            self.usage_tracking[username] = {
                "routine_start": datetime.now(),
                "consecutive_days": 0,
                "noticeable_improvements": [],
                "notes": []
            }
        
        return self.usage_tracking[username]

# Main program
def main():
    skincare_system = AdvancedSkincareRoutine()
    
    print("🌟 Advanced Skincare System with Herbal Remedies 🌟")
    print("=" * 60)
    
    # Input data
    username = input("👤 Your name: ")
    skin_type = input("🧴 Your skin type (oily/dry/combination): ")
    problems = input("🎯 Skin problems (separate with slashes - acne/wrinkles/pigmentation/dryness): ").split("/")
    budget = input("💰 Budget (low/medium/high): ")
    age = input("🎂 Your age: ")
    climate = input("🌍 Climate (dry/humid/moderate): ")
    prefer_natural = input("🌿 Do you prefer natural remedies? (yes/no): ").lower() == "yes"
    
    print("\n" + "=" * 60)
    print("🎨 Creating your custom skincare routine with herbal remedies...")
    print("=" * 60)
    
    # Create routine
    custom_routine = skincare_system.create_custom_routine(
        skin_type, problems, budget, age, climate, prefer_natural
    )
    
    # Display results
    print("\n🕖 Morning Routine:")
    for step in custom_routine["morning_routine"]:
        print(f"  • {step}")
    
    print("\n🌙 Evening Routine:")
    for step in custom_routine["evening_routine"]:
        print(f"  • {step}")
    
    print("\n💡 Custom Tips:")
    for tip in custom_routine["custom_tips"]:
        print(f"  • {tip}")
    
    # Display herbal recipes if available
    if prefer_natural and custom_routine["herbal_mixtures"]:
        skincare_system.display_herbal_recipes(custom_routine["herbal_mixtures"])
    
    # Display herbal tea recipes
    if prefer_natural and custom_routine["herbal_tea"]:
        print("\n🍵 Herbal Tea Recipes:")
        print("=" * 40)
        for tea in custom_routine["herbal_tea"]:
            print(f"\n{tea['name']}")
            print(f"📋 Ingredients: {', '.join(tea['ingredients'])}")
            print(f"💚 Benefits: {tea['benefits']}")
            print(f"👩‍🍳 Preparation: {tea['preparation']}")
            print(f"⏰ Frequency: {tea['frequency']}")
    
    # Shopping list
    skincare_system.create_shopping_list(custom_routine)
    
    # Progress tracking
    progress = skincare_system.track_progress(username)
    print(f"\n📈 You started your journey on: {progress['routine_start'].strftime('%Y-%m-%d')}")
    print("🎯 Continue the routine for 4 weeks to see results!")

# Run the program
if __name__ == "__main__":
    main()
