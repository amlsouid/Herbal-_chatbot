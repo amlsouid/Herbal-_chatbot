{
  "nbformat": 4,
  "nbformat_minor": 0,
  "metadata": {
    "colab": {
      "provenance": [],
      "authorship_tag": "ABX9TyP8D7vpaL2ztTuKVFGPoZ64",
      "include_colab_link": true
    },
    "kernelspec": {
      "name": "python3",
      "display_name": "Python 3"
    },
    "language_info": {
      "name": "python"
    }
  },
  "cells": [
    {
      "cell_type": "markdown",
      "metadata": {
        "id": "view-in-github",
        "colab_type": "text"
      },
      "source": [
        "<a href=\"https://colab.research.google.com/github/amlsouid/Herbal-_chatbot/blob/main/Untitled2.ipynb\" target=\"_parent\"><img src=\"https://colab.research.google.com/assets/colab-badge.svg\" alt=\"Open In Colab\"/></a>"
      ]
    },
    {
      "cell_type": "code",
      "execution_count": 1,
      "metadata": {
        "colab": {
          "base_uri": "https://localhost:8080/"
        },
        "id": "5ru3GaUH4Osv",
        "outputId": "77fcc42d-c8f2-4c64-dfe8-217f48c7a981"
      },
      "outputs": [
        {
          "output_type": "stream",
          "name": "stdout",
          "text": [
            "==================================================\n",
            "💊 Herbal Medicine Chatbot 💊\n",
            "==================================================\n",
            "Hello there! What would you like to know about herbs today?\n",
            "You can ask about herbs like: mint, chamomile, ginger, cinnamon, rosemary, etc.\n",
            "Type 'exit' or 'quit' to end the conversation.\n",
            "==================================================\n",
            "\n",
            "You: mint\n",
            "Bot: Mint: Mint is beneficial for the digestive system and helps soothe stomach disorders. It also freshens breath.\n",
            "\n",
            "You: exit \n",
            "Bot: Goodbye! Wishing you continued health and wellness.\n"
          ]
        }
      ],
      "source": [
        "import random\n",
        "\n",
        "# Knowledge base about herbs\n",
        "herbs_knowledge = {\n",
        "    \"mint\": \"Mint is beneficial for the digestive system and helps soothe stomach disorders. It also freshens breath.\",\n",
        "    \"chamomile\": \"Chamomile is a natural relaxant that helps with relaxation and improves sleep. It's also good for the skin.\",\n",
        "    \"ginger\": \"Ginger helps treat nausea, improves digestion, and strengthens immunity.\",\n",
        "    \"turmeric\": \"Turmeric is a powerful anti-inflammatory and pain reliever. Beneficial for joints and digestive system.\",\n",
        "    \"cinnamon\": \"Cinnamon helps regulate blood sugar and improves blood circulation.\",\n",
        "    \"basil\": \"Basil calms nerves and helps combat stress and fatigue.\",\n",
        "    \"fennel\": \"Fennel aids digestion and helps relieve bloating.\",\n",
        "    \"rosemary\": \"Rosemary enhances memory and blood circulation.\",\n",
        "    \"lemon\": \"Lemon is rich in vitamin C, boosts immunity, and aids digestion.\",\n",
        "    \"licorice\": \"Licorice soothes coughs and benefits the respiratory system, but should be used cautiously by people with blood pressure issues.\",\n",
        "    \"black seed\": \"Black seed strengthens immunity and helps treat many diseases.\",\n",
        "    \"thyme\": \"Thyme is a natural antibiotic and benefits respiratory and digestive systems.\",\n",
        "    \"sage\": \"Sage benefits memory, digestive system, and relieves menstrual pain.\",\n",
        "    \"anise\": \"Anise is a relaxant and colic reliever, suitable for both children and adults.\",\n",
        "    \"clove\": \"Clove relieves toothache and disinfects mouth and throat.\"\n",
        "}\n",
        "\n",
        "# General responses\n",
        "general_responses = [\n",
        "    \"Welcome! How can I help you today?\",\n",
        "    \"Hello! Ask me about any herb you want to know benefits of.\",\n",
        "    \"Greetings! I'm here to provide information about medicinal herbs.\",\n",
        "    \"Hello there! What would you like to know about herbs today?\"\n",
        "]\n",
        "\n",
        "def chatbot():\n",
        "    print(\"=\" * 50)\n",
        "    print(\"💊 Herbal Medicine Chatbot 💊\")\n",
        "    print(\"=\" * 50)\n",
        "    print(random.choice(general_responses))\n",
        "    print(\"You can ask about herbs like: mint, chamomile, ginger, cinnamon, rosemary, etc.\")\n",
        "    print(\"Type 'exit' or 'quit' to end the conversation.\")\n",
        "    print(\"=\" * 50)\n",
        "\n",
        "    while True:\n",
        "        user_input = input(\"\\nYou: \").strip().lower()\n",
        "\n",
        "        if not user_input:\n",
        "            continue\n",
        "\n",
        "        if user_input in ['exit', 'quit', 'bye', 'goodbye']:\n",
        "            print(\"Bot: Goodbye! Wishing you continued health and wellness.\")\n",
        "            break\n",
        "\n",
        "        if any(word in user_input for word in [\"hello\", \"hi\", \"hey\", \"greetings\"]):\n",
        "            print(\"Bot:\", random.choice(general_responses))\n",
        "        elif any(word in user_input for word in [\"thank\", \"thanks\", \"appreciate\"]):\n",
        "            print(\"Bot: You're welcome! Always happy to help. Is there another herb you'd like to know about?\")\n",
        "        else:\n",
        "            # Search for herb in knowledge base\n",
        "            found = False\n",
        "            for herb in herbs_knowledge:\n",
        "                if herb.lower() in user_input:\n",
        "                    print(f\"Bot: {herb.capitalize()}: {herbs_knowledge[herb]}\")\n",
        "                    found = True\n",
        "                    break\n",
        "\n",
        "            if not found:\n",
        "                print(\"Bot: Sorry, I didn't recognize this herb. Try asking about another herb from the following list:\")\n",
        "                print(\", \".join(herbs_knowledge.keys()))\n",
        "\n",
        "# Run the bot\n",
        "if __name__ == \"__main__\":\n",
        "    chatbot()"
      ]
    }
  ]
}